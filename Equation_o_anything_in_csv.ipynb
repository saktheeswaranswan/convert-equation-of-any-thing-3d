{
  "nbformat": 4,
  "nbformat_minor": 0,
  "metadata": {
    "colab": {
      "provenance": []
    },
    "kernelspec": {
      "name": "python3",
      "display_name": "Python 3"
    },
    "language_info": {
      "name": "python"
    },
    "widgets": {
      "application/vnd.jupyter.widget-state+json": {
        "3031ee87d85d41189056b2e719b9a1ab": {
          "model_module": "@jupyter-widgets/output",
          "model_name": "OutputModel",
          "model_module_version": "1.0.0",
          "state": {
            "_dom_classes": [],
            "_model_module": "@jupyter-widgets/output",
            "_model_module_version": "1.0.0",
            "_model_name": "OutputModel",
            "_view_count": null,
            "_view_module": "@jupyter-widgets/output",
            "_view_module_version": "1.0.0",
            "_view_name": "OutputView",
            "layout": "IPY_MODEL_3ad584bfba4b4775bd0c425ece92bad9",
            "msg_id": "",
            "outputs": [
              {
                "output_type": "display_data",
                "data": {
                  "text/plain": "Plot(antialias=3, axes=['x', 'y', 'z'], axes_helper=1.0, axes_helper_colors=[16711680, 65280, 255], background…",
                  "application/vnd.jupyter.widget-view+json": {
                    "version_major": 2,
                    "version_minor": 0,
                    "model_id": "b0aa7aedac744ef18dda0f9af63bb625"
                  }
                },
                "metadata": {}
              }
            ]
          }
        },
        "b0aa7aedac744ef18dda0f9af63bb625": {
          "model_module": "k3d",
          "model_name": "PlotModel",
          "model_module_version": "2.16.1",
          "state": {
            "_backend_version": "2.16.1",
            "_dom_classes": [],
            "_model_module": "k3d",
            "_model_module_version": "2.16.1",
            "_model_name": "PlotModel",
            "_view_count": null,
            "_view_module": "k3d",
            "_view_module_version": "2.16.1",
            "_view_name": "PlotView",
            "antialias": 3,
            "auto_rendering": true,
            "axes": [
              "x",
              "y",
              "z"
            ],
            "axes_helper": 1,
            "axes_helper_colors": [
              16711680,
              65280,
              255
            ],
            "background_color": 16777215,
            "camera": [],
            "camera_animation": [],
            "camera_auto_fit": true,
            "camera_damping_factor": 0,
            "camera_fov": 60,
            "camera_mode": "trackball",
            "camera_no_pan": false,
            "camera_no_rotate": false,
            "camera_no_zoom": false,
            "camera_pan_speed": 0.3,
            "camera_rotate_speed": 1,
            "camera_zoom_speed": 1.2,
            "clipping_planes": [],
            "colorbar_object_id": -1,
            "colorbar_scientific": false,
            "custom_data": null,
            "fps": 25,
            "fps_meter": false,
            "grid": [
              -1,
              -1,
              -1,
              1,
              1,
              1
            ],
            "grid_auto_fit": true,
            "grid_color": 15132390,
            "grid_visible": true,
            "height": 512,
            "label_color": 4473924,
            "layout": "IPY_MODEL_e960b13546454d0db11be2f9dc90164b",
            "lighting": 1.5,
            "logarithmic_depth_buffer": true,
            "manipulate_mode": "translate",
            "menu_visibility": true,
            "minimum_fps": -1,
            "mode": "view",
            "name": null,
            "object_ids": [
              134401861762496
            ],
            "rendering_steps": 1,
            "screenshot": "",
            "screenshot_scale": 2,
            "snapshot": "",
            "snapshot_type": "full",
            "time": 0,
            "voxel_paint_color": 0
          }
        },
        "3ad584bfba4b4775bd0c425ece92bad9": {
          "model_module": "@jupyter-widgets/base",
          "model_name": "LayoutModel",
          "model_module_version": "1.2.0",
          "state": {
            "_model_module": "@jupyter-widgets/base",
            "_model_module_version": "1.2.0",
            "_model_name": "LayoutModel",
            "_view_count": null,
            "_view_module": "@jupyter-widgets/base",
            "_view_module_version": "1.2.0",
            "_view_name": "LayoutView",
            "align_content": null,
            "align_items": null,
            "align_self": null,
            "border": null,
            "bottom": null,
            "display": null,
            "flex": null,
            "flex_flow": null,
            "grid_area": null,
            "grid_auto_columns": null,
            "grid_auto_flow": null,
            "grid_auto_rows": null,
            "grid_column": null,
            "grid_gap": null,
            "grid_row": null,
            "grid_template_areas": null,
            "grid_template_columns": null,
            "grid_template_rows": null,
            "height": null,
            "justify_content": null,
            "justify_items": null,
            "left": null,
            "margin": null,
            "max_height": null,
            "max_width": null,
            "min_height": null,
            "min_width": null,
            "object_fit": null,
            "object_position": null,
            "order": null,
            "overflow": null,
            "overflow_x": null,
            "overflow_y": null,
            "padding": null,
            "right": null,
            "top": null,
            "visibility": null,
            "width": null
          }
        }
      }
    }
  },
  "cells": [
    {
      "cell_type": "code",
      "execution_count": 1,
      "metadata": {
        "colab": {
          "base_uri": "https://localhost:8080/"
        },
        "id": "L-OMh2sbyoxv",
        "outputId": "edfb2199-f618-4917-8175-fee6b1fb654d"
      },
      "outputs": [
        {
          "output_type": "stream",
          "name": "stdout",
          "text": [
            "Data has been written to 'implicit_function_values.csv'.\n"
          ]
        }
      ],
      "source": [
        "import numpy as np\n",
        "import csv\n",
        "\n",
        "# Parameters for the sphere and cylinder\n",
        "R1 = 1  # Sphere radius\n",
        "R2 = 1  # Cylinder radius\n",
        "\n",
        "# Create a grid of points\n",
        "points = []\n",
        "results = []\n",
        "\n",
        "# Generate points in the range\n",
        "for x in np.linspace(-1.5, 1.5, 10):  # Adjust number of points as needed\n",
        "    for y in np.linspace(-1.5, 1.5, 10):\n",
        "        for z in np.linspace(-1.5, 1.5, 10):\n",
        "            # Calculate the implicit function value\n",
        "            value = max(x**2 + y**2 + z**2 - R1**2, z**2 - R2**2)\n",
        "            points.append((x, y, z))\n",
        "            results.append(value)\n",
        "\n",
        "# Save to CSV\n",
        "with open('implicit_function_values.csv', mode='w', newline='') as file:\n",
        "    writer = csv.writer(file)\n",
        "    writer.writerow([\"x\", \"y\", \"z\", \"f(x, y, z)\"])  # Header\n",
        "    for (x, y, z), f_value in zip(points, results):\n",
        "        writer.writerow([f\"{x:.3f}\", f\"{y:.3f}\", f\"{z:.3f}\", f\"{f_value:.3f}\"])\n",
        "\n",
        "print(\"Data has been written to 'implicit_function_values.csv'.\")\n"
      ]
    },
    {
      "cell_type": "code",
      "source": [
        "!pip install k3d\n"
      ],
      "metadata": {
        "colab": {
          "base_uri": "https://localhost:8080/"
        },
        "id": "1DBEqEawzk6I",
        "outputId": "7bdf0e9e-fcb7-4485-bd7a-d4bedbf0f4e2"
      },
      "execution_count": 2,
      "outputs": [
        {
          "output_type": "stream",
          "name": "stdout",
          "text": [
            "Collecting k3d\n",
            "  Downloading k3d-2.16.1-py3-none-any.whl.metadata (6.8 kB)\n",
            "Requirement already satisfied: ipywidgets<9.0.0,>=7.0.0 in /usr/local/lib/python3.10/dist-packages (from k3d) (7.7.1)\n",
            "Requirement already satisfied: msgpack in /usr/local/lib/python3.10/dist-packages (from k3d) (1.1.0)\n",
            "Requirement already satisfied: numpy in /usr/local/lib/python3.10/dist-packages (from k3d) (1.26.4)\n",
            "Requirement already satisfied: traitlets in /usr/local/lib/python3.10/dist-packages (from k3d) (5.7.1)\n",
            "Requirement already satisfied: traittypes in /usr/local/lib/python3.10/dist-packages (from k3d) (0.2.1)\n",
            "Requirement already satisfied: ipykernel>=4.5.1 in /usr/local/lib/python3.10/dist-packages (from ipywidgets<9.0.0,>=7.0.0->k3d) (5.5.6)\n",
            "Requirement already satisfied: ipython-genutils~=0.2.0 in /usr/local/lib/python3.10/dist-packages (from ipywidgets<9.0.0,>=7.0.0->k3d) (0.2.0)\n",
            "Requirement already satisfied: widgetsnbextension~=3.6.0 in /usr/local/lib/python3.10/dist-packages (from ipywidgets<9.0.0,>=7.0.0->k3d) (3.6.9)\n",
            "Requirement already satisfied: ipython>=4.0.0 in /usr/local/lib/python3.10/dist-packages (from ipywidgets<9.0.0,>=7.0.0->k3d) (7.34.0)\n",
            "Requirement already satisfied: jupyterlab-widgets>=1.0.0 in /usr/local/lib/python3.10/dist-packages (from ipywidgets<9.0.0,>=7.0.0->k3d) (3.0.13)\n",
            "Requirement already satisfied: jupyter-client in /usr/local/lib/python3.10/dist-packages (from ipykernel>=4.5.1->ipywidgets<9.0.0,>=7.0.0->k3d) (6.1.12)\n",
            "Requirement already satisfied: tornado>=4.2 in /usr/local/lib/python3.10/dist-packages (from ipykernel>=4.5.1->ipywidgets<9.0.0,>=7.0.0->k3d) (6.3.3)\n",
            "Requirement already satisfied: setuptools>=18.5 in /usr/local/lib/python3.10/dist-packages (from ipython>=4.0.0->ipywidgets<9.0.0,>=7.0.0->k3d) (75.1.0)\n",
            "Collecting jedi>=0.16 (from ipython>=4.0.0->ipywidgets<9.0.0,>=7.0.0->k3d)\n",
            "  Downloading jedi-0.19.1-py2.py3-none-any.whl.metadata (22 kB)\n",
            "Requirement already satisfied: decorator in /usr/local/lib/python3.10/dist-packages (from ipython>=4.0.0->ipywidgets<9.0.0,>=7.0.0->k3d) (4.4.2)\n",
            "Requirement already satisfied: pickleshare in /usr/local/lib/python3.10/dist-packages (from ipython>=4.0.0->ipywidgets<9.0.0,>=7.0.0->k3d) (0.7.5)\n",
            "Requirement already satisfied: prompt-toolkit!=3.0.0,!=3.0.1,<3.1.0,>=2.0.0 in /usr/local/lib/python3.10/dist-packages (from ipython>=4.0.0->ipywidgets<9.0.0,>=7.0.0->k3d) (3.0.48)\n",
            "Requirement already satisfied: pygments in /usr/local/lib/python3.10/dist-packages (from ipython>=4.0.0->ipywidgets<9.0.0,>=7.0.0->k3d) (2.18.0)\n",
            "Requirement already satisfied: backcall in /usr/local/lib/python3.10/dist-packages (from ipython>=4.0.0->ipywidgets<9.0.0,>=7.0.0->k3d) (0.2.0)\n",
            "Requirement already satisfied: matplotlib-inline in /usr/local/lib/python3.10/dist-packages (from ipython>=4.0.0->ipywidgets<9.0.0,>=7.0.0->k3d) (0.1.7)\n",
            "Requirement already satisfied: pexpect>4.3 in /usr/local/lib/python3.10/dist-packages (from ipython>=4.0.0->ipywidgets<9.0.0,>=7.0.0->k3d) (4.9.0)\n",
            "Requirement already satisfied: notebook>=4.4.1 in /usr/local/lib/python3.10/dist-packages (from widgetsnbextension~=3.6.0->ipywidgets<9.0.0,>=7.0.0->k3d) (6.5.5)\n",
            "Requirement already satisfied: parso<0.9.0,>=0.8.3 in /usr/local/lib/python3.10/dist-packages (from jedi>=0.16->ipython>=4.0.0->ipywidgets<9.0.0,>=7.0.0->k3d) (0.8.4)\n",
            "Requirement already satisfied: jinja2 in /usr/local/lib/python3.10/dist-packages (from notebook>=4.4.1->widgetsnbextension~=3.6.0->ipywidgets<9.0.0,>=7.0.0->k3d) (3.1.4)\n",
            "Requirement already satisfied: pyzmq<25,>=17 in /usr/local/lib/python3.10/dist-packages (from notebook>=4.4.1->widgetsnbextension~=3.6.0->ipywidgets<9.0.0,>=7.0.0->k3d) (24.0.1)\n",
            "Requirement already satisfied: argon2-cffi in /usr/local/lib/python3.10/dist-packages (from notebook>=4.4.1->widgetsnbextension~=3.6.0->ipywidgets<9.0.0,>=7.0.0->k3d) (23.1.0)\n",
            "Requirement already satisfied: jupyter-core>=4.6.1 in /usr/local/lib/python3.10/dist-packages (from notebook>=4.4.1->widgetsnbextension~=3.6.0->ipywidgets<9.0.0,>=7.0.0->k3d) (5.7.2)\n",
            "Requirement already satisfied: nbformat in /usr/local/lib/python3.10/dist-packages (from notebook>=4.4.1->widgetsnbextension~=3.6.0->ipywidgets<9.0.0,>=7.0.0->k3d) (5.10.4)\n",
            "Requirement already satisfied: nbconvert>=5 in /usr/local/lib/python3.10/dist-packages (from notebook>=4.4.1->widgetsnbextension~=3.6.0->ipywidgets<9.0.0,>=7.0.0->k3d) (6.5.4)\n",
            "Requirement already satisfied: nest-asyncio>=1.5 in /usr/local/lib/python3.10/dist-packages (from notebook>=4.4.1->widgetsnbextension~=3.6.0->ipywidgets<9.0.0,>=7.0.0->k3d) (1.6.0)\n",
            "Requirement already satisfied: Send2Trash>=1.8.0 in /usr/local/lib/python3.10/dist-packages (from notebook>=4.4.1->widgetsnbextension~=3.6.0->ipywidgets<9.0.0,>=7.0.0->k3d) (1.8.3)\n",
            "Requirement already satisfied: terminado>=0.8.3 in /usr/local/lib/python3.10/dist-packages (from notebook>=4.4.1->widgetsnbextension~=3.6.0->ipywidgets<9.0.0,>=7.0.0->k3d) (0.18.1)\n",
            "Requirement already satisfied: prometheus-client in /usr/local/lib/python3.10/dist-packages (from notebook>=4.4.1->widgetsnbextension~=3.6.0->ipywidgets<9.0.0,>=7.0.0->k3d) (0.21.0)\n",
            "Requirement already satisfied: nbclassic>=0.4.7 in /usr/local/lib/python3.10/dist-packages (from notebook>=4.4.1->widgetsnbextension~=3.6.0->ipywidgets<9.0.0,>=7.0.0->k3d) (1.1.0)\n",
            "Requirement already satisfied: python-dateutil>=2.1 in /usr/local/lib/python3.10/dist-packages (from jupyter-client->ipykernel>=4.5.1->ipywidgets<9.0.0,>=7.0.0->k3d) (2.8.2)\n",
            "Requirement already satisfied: ptyprocess>=0.5 in /usr/local/lib/python3.10/dist-packages (from pexpect>4.3->ipython>=4.0.0->ipywidgets<9.0.0,>=7.0.0->k3d) (0.7.0)\n",
            "Requirement already satisfied: wcwidth in /usr/local/lib/python3.10/dist-packages (from prompt-toolkit!=3.0.0,!=3.0.1,<3.1.0,>=2.0.0->ipython>=4.0.0->ipywidgets<9.0.0,>=7.0.0->k3d) (0.2.13)\n",
            "Requirement already satisfied: platformdirs>=2.5 in /usr/local/lib/python3.10/dist-packages (from jupyter-core>=4.6.1->notebook>=4.4.1->widgetsnbextension~=3.6.0->ipywidgets<9.0.0,>=7.0.0->k3d) (4.3.6)\n",
            "Requirement already satisfied: notebook-shim>=0.2.3 in /usr/local/lib/python3.10/dist-packages (from nbclassic>=0.4.7->notebook>=4.4.1->widgetsnbextension~=3.6.0->ipywidgets<9.0.0,>=7.0.0->k3d) (0.2.4)\n",
            "Requirement already satisfied: lxml in /usr/local/lib/python3.10/dist-packages (from nbconvert>=5->notebook>=4.4.1->widgetsnbextension~=3.6.0->ipywidgets<9.0.0,>=7.0.0->k3d) (4.9.4)\n",
            "Requirement already satisfied: beautifulsoup4 in /usr/local/lib/python3.10/dist-packages (from nbconvert>=5->notebook>=4.4.1->widgetsnbextension~=3.6.0->ipywidgets<9.0.0,>=7.0.0->k3d) (4.12.3)\n",
            "Requirement already satisfied: bleach in /usr/local/lib/python3.10/dist-packages (from nbconvert>=5->notebook>=4.4.1->widgetsnbextension~=3.6.0->ipywidgets<9.0.0,>=7.0.0->k3d) (6.1.0)\n",
            "Requirement already satisfied: defusedxml in /usr/local/lib/python3.10/dist-packages (from nbconvert>=5->notebook>=4.4.1->widgetsnbextension~=3.6.0->ipywidgets<9.0.0,>=7.0.0->k3d) (0.7.1)\n",
            "Requirement already satisfied: entrypoints>=0.2.2 in /usr/local/lib/python3.10/dist-packages (from nbconvert>=5->notebook>=4.4.1->widgetsnbextension~=3.6.0->ipywidgets<9.0.0,>=7.0.0->k3d) (0.4)\n",
            "Requirement already satisfied: jupyterlab-pygments in /usr/local/lib/python3.10/dist-packages (from nbconvert>=5->notebook>=4.4.1->widgetsnbextension~=3.6.0->ipywidgets<9.0.0,>=7.0.0->k3d) (0.3.0)\n",
            "Requirement already satisfied: MarkupSafe>=2.0 in /usr/local/lib/python3.10/dist-packages (from nbconvert>=5->notebook>=4.4.1->widgetsnbextension~=3.6.0->ipywidgets<9.0.0,>=7.0.0->k3d) (3.0.1)\n",
            "Requirement already satisfied: mistune<2,>=0.8.1 in /usr/local/lib/python3.10/dist-packages (from nbconvert>=5->notebook>=4.4.1->widgetsnbextension~=3.6.0->ipywidgets<9.0.0,>=7.0.0->k3d) (0.8.4)\n",
            "Requirement already satisfied: nbclient>=0.5.0 in /usr/local/lib/python3.10/dist-packages (from nbconvert>=5->notebook>=4.4.1->widgetsnbextension~=3.6.0->ipywidgets<9.0.0,>=7.0.0->k3d) (0.10.0)\n",
            "Requirement already satisfied: packaging in /usr/local/lib/python3.10/dist-packages (from nbconvert>=5->notebook>=4.4.1->widgetsnbextension~=3.6.0->ipywidgets<9.0.0,>=7.0.0->k3d) (24.1)\n",
            "Requirement already satisfied: pandocfilters>=1.4.1 in /usr/local/lib/python3.10/dist-packages (from nbconvert>=5->notebook>=4.4.1->widgetsnbextension~=3.6.0->ipywidgets<9.0.0,>=7.0.0->k3d) (1.5.1)\n",
            "Requirement already satisfied: tinycss2 in /usr/local/lib/python3.10/dist-packages (from nbconvert>=5->notebook>=4.4.1->widgetsnbextension~=3.6.0->ipywidgets<9.0.0,>=7.0.0->k3d) (1.3.0)\n",
            "Requirement already satisfied: fastjsonschema>=2.15 in /usr/local/lib/python3.10/dist-packages (from nbformat->notebook>=4.4.1->widgetsnbextension~=3.6.0->ipywidgets<9.0.0,>=7.0.0->k3d) (2.20.0)\n",
            "Requirement already satisfied: jsonschema>=2.6 in /usr/local/lib/python3.10/dist-packages (from nbformat->notebook>=4.4.1->widgetsnbextension~=3.6.0->ipywidgets<9.0.0,>=7.0.0->k3d) (4.23.0)\n",
            "Requirement already satisfied: six>=1.5 in /usr/local/lib/python3.10/dist-packages (from python-dateutil>=2.1->jupyter-client->ipykernel>=4.5.1->ipywidgets<9.0.0,>=7.0.0->k3d) (1.16.0)\n",
            "Requirement already satisfied: argon2-cffi-bindings in /usr/local/lib/python3.10/dist-packages (from argon2-cffi->notebook>=4.4.1->widgetsnbextension~=3.6.0->ipywidgets<9.0.0,>=7.0.0->k3d) (21.2.0)\n",
            "Requirement already satisfied: attrs>=22.2.0 in /usr/local/lib/python3.10/dist-packages (from jsonschema>=2.6->nbformat->notebook>=4.4.1->widgetsnbextension~=3.6.0->ipywidgets<9.0.0,>=7.0.0->k3d) (24.2.0)\n",
            "Requirement already satisfied: jsonschema-specifications>=2023.03.6 in /usr/local/lib/python3.10/dist-packages (from jsonschema>=2.6->nbformat->notebook>=4.4.1->widgetsnbextension~=3.6.0->ipywidgets<9.0.0,>=7.0.0->k3d) (2024.10.1)\n",
            "Requirement already satisfied: referencing>=0.28.4 in /usr/local/lib/python3.10/dist-packages (from jsonschema>=2.6->nbformat->notebook>=4.4.1->widgetsnbextension~=3.6.0->ipywidgets<9.0.0,>=7.0.0->k3d) (0.35.1)\n",
            "Requirement already satisfied: rpds-py>=0.7.1 in /usr/local/lib/python3.10/dist-packages (from jsonschema>=2.6->nbformat->notebook>=4.4.1->widgetsnbextension~=3.6.0->ipywidgets<9.0.0,>=7.0.0->k3d) (0.20.0)\n",
            "Requirement already satisfied: jupyter-server<3,>=1.8 in /usr/local/lib/python3.10/dist-packages (from notebook-shim>=0.2.3->nbclassic>=0.4.7->notebook>=4.4.1->widgetsnbextension~=3.6.0->ipywidgets<9.0.0,>=7.0.0->k3d) (1.24.0)\n",
            "Requirement already satisfied: cffi>=1.0.1 in /usr/local/lib/python3.10/dist-packages (from argon2-cffi-bindings->argon2-cffi->notebook>=4.4.1->widgetsnbextension~=3.6.0->ipywidgets<9.0.0,>=7.0.0->k3d) (1.17.1)\n",
            "Requirement already satisfied: soupsieve>1.2 in /usr/local/lib/python3.10/dist-packages (from beautifulsoup4->nbconvert>=5->notebook>=4.4.1->widgetsnbextension~=3.6.0->ipywidgets<9.0.0,>=7.0.0->k3d) (2.6)\n",
            "Requirement already satisfied: webencodings in /usr/local/lib/python3.10/dist-packages (from bleach->nbconvert>=5->notebook>=4.4.1->widgetsnbextension~=3.6.0->ipywidgets<9.0.0,>=7.0.0->k3d) (0.5.1)\n",
            "Requirement already satisfied: pycparser in /usr/local/lib/python3.10/dist-packages (from cffi>=1.0.1->argon2-cffi-bindings->argon2-cffi->notebook>=4.4.1->widgetsnbextension~=3.6.0->ipywidgets<9.0.0,>=7.0.0->k3d) (2.22)\n",
            "Requirement already satisfied: anyio<4,>=3.1.0 in /usr/local/lib/python3.10/dist-packages (from jupyter-server<3,>=1.8->notebook-shim>=0.2.3->nbclassic>=0.4.7->notebook>=4.4.1->widgetsnbextension~=3.6.0->ipywidgets<9.0.0,>=7.0.0->k3d) (3.7.1)\n",
            "Requirement already satisfied: websocket-client in /usr/local/lib/python3.10/dist-packages (from jupyter-server<3,>=1.8->notebook-shim>=0.2.3->nbclassic>=0.4.7->notebook>=4.4.1->widgetsnbextension~=3.6.0->ipywidgets<9.0.0,>=7.0.0->k3d) (1.8.0)\n",
            "Requirement already satisfied: idna>=2.8 in /usr/local/lib/python3.10/dist-packages (from anyio<4,>=3.1.0->jupyter-server<3,>=1.8->notebook-shim>=0.2.3->nbclassic>=0.4.7->notebook>=4.4.1->widgetsnbextension~=3.6.0->ipywidgets<9.0.0,>=7.0.0->k3d) (3.10)\n",
            "Requirement already satisfied: sniffio>=1.1 in /usr/local/lib/python3.10/dist-packages (from anyio<4,>=3.1.0->jupyter-server<3,>=1.8->notebook-shim>=0.2.3->nbclassic>=0.4.7->notebook>=4.4.1->widgetsnbextension~=3.6.0->ipywidgets<9.0.0,>=7.0.0->k3d) (1.3.1)\n",
            "Requirement already satisfied: exceptiongroup in /usr/local/lib/python3.10/dist-packages (from anyio<4,>=3.1.0->jupyter-server<3,>=1.8->notebook-shim>=0.2.3->nbclassic>=0.4.7->notebook>=4.4.1->widgetsnbextension~=3.6.0->ipywidgets<9.0.0,>=7.0.0->k3d) (1.2.2)\n",
            "Downloading k3d-2.16.1-py3-none-any.whl (23.1 MB)\n",
            "\u001b[2K   \u001b[90m━━━━━━━━━━━━━━━━━━━━━━━━━━━━━━━━━━━━━━━━\u001b[0m \u001b[32m23.1/23.1 MB\u001b[0m \u001b[31m48.8 MB/s\u001b[0m eta \u001b[36m0:00:00\u001b[0m\n",
            "\u001b[?25hDownloading jedi-0.19.1-py2.py3-none-any.whl (1.6 MB)\n",
            "\u001b[2K   \u001b[90m━━━━━━━━━━━━━━━━━━━━━━━━━━━━━━━━━━━━━━━━\u001b[0m \u001b[32m1.6/1.6 MB\u001b[0m \u001b[31m47.8 MB/s\u001b[0m eta \u001b[36m0:00:00\u001b[0m\n",
            "\u001b[?25hInstalling collected packages: jedi, k3d\n",
            "Successfully installed jedi-0.19.1 k3d-2.16.1\n"
          ]
        }
      ]
    },
    {
      "cell_type": "code",
      "source": [
        "import numpy as np\n",
        "import k3d\n",
        "\n",
        "# Define parameters\n",
        "R1 = 1  # Sphere radius\n",
        "R2 = 1  # Cylinder radius\n",
        "\n",
        "# Create a grid of points\n",
        "x = np.linspace(-1.5, 1.5, 30)\n",
        "y = np.linspace(-1.5, 1.5, 30)\n",
        "z = np.linspace(-1.5, 1.5, 30)\n",
        "\n",
        "# Create meshgrid\n",
        "X, Y, Z = np.meshgrid(x, y, z)\n",
        "\n",
        "# Calculate the implicit function\n",
        "F = np.maximum(X**2 + Y**2 + Z**2 - R1**2, Z**2 - R2**2)\n",
        "\n",
        "# Create a K3D plot\n",
        "plot = k3d.plot()\n",
        "\n",
        "# Create a boolean array for the isosurface (where the function is close to 0)\n",
        "iso_surface = np.abs(F) < 0.05  # Adjust the threshold as needed\n",
        "\n",
        "# Add the voxels to the plot\n",
        "voxels = k3d.voxels(iso_surface, color=0xFF0000, alpha=0.5)\n",
        "plot += voxels\n",
        "\n",
        "# Display the plot\n",
        "plot.display()\n"
      ],
      "metadata": {
        "colab": {
          "base_uri": "https://localhost:8080/",
          "height": 72,
          "referenced_widgets": [
            "3031ee87d85d41189056b2e719b9a1ab",
            "b0aa7aedac744ef18dda0f9af63bb625",
            "3ad584bfba4b4775bd0c425ece92bad9"
          ]
        },
        "id": "Q53GrZjWzh0O",
        "outputId": "7554d3ea-62b3-477d-fb93-9871fd81fe9e"
      },
      "execution_count": 4,
      "outputs": [
        {
          "output_type": "stream",
          "name": "stderr",
          "text": [
            "/usr/local/lib/python3.10/dist-packages/traittypes/traittypes.py:97: UserWarning: Given trait value dtype \"bool\" does not match required type \"uint8\". A coerced copy has been created.\n",
            "  warnings.warn(\n"
          ]
        },
        {
          "output_type": "display_data",
          "data": {
            "text/plain": [
              "Output()"
            ],
            "application/vnd.jupyter.widget-view+json": {
              "version_major": 2,
              "version_minor": 0,
              "model_id": "3031ee87d85d41189056b2e719b9a1ab"
            }
          },
          "metadata": {}
        }
      ]
    },
    {
      "cell_type": "code",
      "source": [
        "import numpy as np\n",
        "import matplotlib.pyplot as plt\n",
        "from mpl_toolkits.mplot3d import Axes3D\n",
        "\n",
        "# Define parameters\n",
        "R1 = 1  # Sphere radius\n",
        "R2 = 1  # Cylinder radius\n",
        "\n",
        "# Create a grid of points\n",
        "x = np.linspace(-1.5, 1.5, 30)\n",
        "y = np.linspace(-1.5, 1.5, 30)\n",
        "z = np.linspace(-1.5, 1.5, 30)\n",
        "\n",
        "# Create meshgrid\n",
        "X, Y, Z = np.meshgrid(x, y, z)\n",
        "\n",
        "# Calculate the implicit function\n",
        "F = np.maximum(X**2 + Y**2 + Z**2 - R1**2, Z**2 - R2**2)\n",
        "\n",
        "# Create a figure\n",
        "fig = plt.figure()\n",
        "ax = fig.add_subplot(111, projection='3d')\n",
        "\n",
        "# Plot the isosurface where F is close to 0\n",
        "ax.contourf(X[:, :, 0], Y[:, :, 0], F[:, :, 0], levels=[-0.05, 0.05], alpha=0.5, cmap='viridis')\n",
        "\n",
        "# Set labels\n",
        "ax.set_xlabel('X axis')\n",
        "ax.set_ylabel('Y axis')\n",
        "ax.set_zlabel('Z axis')\n",
        "ax.set_title('Implicit Surface Visualization')\n",
        "\n",
        "# Show the plot\n",
        "plt.show()\n"
      ],
      "metadata": {
        "colab": {
          "base_uri": "https://localhost:8080/",
          "height": 438
        },
        "id": "qyUtZ0Sjz9eL",
        "outputId": "f948b089-29f1-4cbe-9c70-2f688736d788"
      },
      "execution_count": 5,
      "outputs": [
        {
          "output_type": "display_data",
          "data": {
            "text/plain": [
              "<Figure size 640x480 with 1 Axes>"
            ],
            "image/png": "[encoded data removed]"
          },
          "metadata": {}
        }
      ]
    },
    {
      "cell_type": "code",
      "source": [
        "import csv\n",
        "\n",
        "# Function to read the .obj file and extract vertex coordinates\n",
        "def extract_coordinates_from_obj(file_path):\n",
        "    coordinates = []\n",
        "    with open(file_path, 'r') as obj_file:\n",
        "        for line in obj_file:\n",
        "            if line.startswith('v '):\n",
        "                # Split and extract the coordinates\n",
        "                parts = line.split()\n",
        "                x = float(parts[1])\n",
        "                y = float(parts[2])\n",
        "                z = float(parts[3])\n",
        "                coordinates.append((x, y, z))\n",
        "    return coordinates\n",
        "\n",
        "# Path to your .obj file\n",
        "obj_file_path = 'baby.obj'  # Change this to your file path\n",
        "\n",
        "# Extract coordinates\n",
        "coordinates = extract_coordinates_from_obj(obj_file_path)\n",
        "\n",
        "# Count the number of coordinates\n",
        "count = len(coordinates)\n",
        "print(f\"Number of coordinates: {count}\")\n",
        "\n",
        "# Write to CSV\n",
        "csv_filename = 'coordinates.csv'\n",
        "with open(csv_filename, mode='w', newline='') as csvfile:\n",
        "    writer = csv.writer(csvfile)\n",
        "    writer.writerow(['x', 'y', 'z'])  # Write header\n",
        "    writer.writerows(coordinates)  # Write data\n",
        "\n",
        "print(f\"Coordinates saved to {csv_filename}\")\n"
      ],
      "metadata": {
        "colab": {
          "base_uri": "https://localhost:8080/"
        },
        "id": "-CZ8E_iV0_GH",
        "outputId": "836d4a02-c113-4a00-8fc1-899e65c11d9a"
      },
      "execution_count": 6,
      "outputs": [
        {
          "output_type": "stream",
          "name": "stdout",
          "text": [
            "Number of coordinates: 41094\n",
            "Coordinates saved to coordinates.csv\n"
          ]
        }
      ]
    },
    {
      "cell_type": "code",
      "source": [
        "import csv\n",
        "import math\n",
        "\n",
        "# Function to read the .obj file and extract vertex coordinates\n",
        "def extract_coordinates_from_obj(file_path):\n",
        "    coordinates = []\n",
        "    with open(file_path, 'r') as obj_file:\n",
        "        for line in obj_file:\n",
        "            if line.startswith('v '):\n",
        "                parts = line.split()\n",
        "                x = float(parts[1])\n",
        "                y = float(parts[2])\n",
        "                z = float(parts[3])\n",
        "                coordinates.append((x, y, z))\n",
        "    return coordinates\n",
        "\n",
        "# Path to your .obj file\n",
        "obj_file_path = 'baby.obj'  # Change this to your file path\n",
        "\n",
        "# Extract coordinates\n",
        "coordinates = extract_coordinates_from_obj(obj_file_path)\n",
        "\n",
        "# Count the number of coordinates\n",
        "count = len(coordinates)\n",
        "print(f\"Number of coordinates: {count}\")\n",
        "\n",
        "# Calculate max x, y, z\n",
        "max_x = max(coord[0] for coord in coordinates)\n",
        "max_y = max(coord[1] for coord in coordinates)\n",
        "max_z = max(coord[2] for coord in coordinates)\n",
        "\n",
        "print(f\"Max Coordinates: x={max_x}, y={max_y}, z={max_z}\")\n",
        "\n",
        "# Calculate the optimized radius r\n",
        "r = math.sqrt(max_x**2 + max_y**2 + max_z**2)\n",
        "print(f\"Optimized radius (r): {r}\")\n",
        "\n",
        "# Create a Maxima-compatible expression for the sphere\n",
        "maxima_sphere = f\"{max_x}^2 + {max_y}^2 + {max_z}^2 = {r}^2\"\n",
        "\n",
        "# Print the Maxima syntax\n",
        "print(f\"Maxima Syntax: {maxima_sphere}\")\n",
        "\n",
        "# Write the max coordinates and Maxima syntax to CSV\n",
        "csv_filename = 'max_coordinates_and_sphere.csv'\n",
        "with open(csv_filename, mode='w', newline='') as csvfile:\n",
        "    writer = csv.writer(csvfile)\n",
        "    writer.writerow(['Max x', 'Max y', 'Max z', 'Optimized r', 'Maxima Sphere Syntax'])  # Write header\n",
        "    writer.writerow([max_x, max_y, max_z, r, maxima_sphere])  # Write data\n",
        "\n",
        "print(f\"Max coordinates and sphere syntax saved to {csv_filename}\")\n"
      ],
      "metadata": {
        "colab": {
          "base_uri": "https://localhost:8080/"
        },
        "id": "myVXvbRi2Muh",
        "outputId": "7179e44c-8e28-47da-bdfe-1fb1d2ad4b45"
      },
      "execution_count": 7,
      "outputs": [
        {
          "output_type": "stream",
          "name": "stdout",
          "text": [
            "Number of coordinates: 41094\n",
            "Max Coordinates: x=65.1333, y=157.0, z=-120.157\n",
            "Optimized radius (r): 208.1563148643106\n",
            "Maxima Syntax: 65.1333^2 + 157.0^2 + -120.157^2 = 208.1563148643106^2\n",
            "Max coordinates and sphere syntax saved to max_coordinates_and_sphere.csv\n"
          ]
        }
      ]
    },
    {
      "cell_type": "code",
      "source": [
        "import csv\n",
        "\n",
        "# Function to read the .obj file and extract vertex coordinates\n",
        "def extract_coordinates_from_obj(file_path):\n",
        "    coordinates = []\n",
        "    with open(file_path, 'r') as obj_file:\n",
        "        for line in obj_file:\n",
        "            if line.startswith('v '):\n",
        "                parts = line.split()\n",
        "                x = float(parts[1])\n",
        "                y = float(parts[2])\n",
        "                z = float(parts[3])\n",
        "                coordinates.append((x, y, z))\n",
        "    return coordinates\n",
        "\n",
        "# Path to your .obj file\n",
        "obj_file_path = 'baby.obj'  # Change this to your file path\n",
        "\n",
        "# Extract coordinates\n",
        "coordinates = extract_coordinates_from_obj(obj_file_path)\n",
        "\n",
        "# Count the number of coordinates\n",
        "count = len(coordinates)\n",
        "print(f\"Number of coordinates: {count}\")\n",
        "\n",
        "# Calculate max x, y, z\n",
        "max_x = max(coord[0] for coord in coordinates)\n",
        "max_y = max(coord[1] for coord in coordinates)\n",
        "max_z = max(coord[2] for coord in coordinates)\n",
        "\n",
        "print(f\"Max Coordinates: x={max_x}, y={max_y}, z={max_z}\")\n",
        "\n",
        "# Define a small radius R (you can adjust this value)\n",
        "R = 0.01  # Small value for the radius\n",
        "\n",
        "# Create the sphere equation\n",
        "sphere_equation = f\"(x - {max_x})^2 + (y - {max_y})^2 + (z - {max_z})^2 = {R**2}\"\n",
        "\n",
        "# Print the sphere equation\n",
        "print(f\"Sphere Equation: {sphere_equation}\")\n",
        "\n",
        "# Write the max coordinates and sphere equation to CSV\n",
        "csv_filename = 'sphere_combination.csv'\n",
        "with open(csv_filename, mode='w', newline='') as csvfile:\n",
        "    writer = csv.writer(csvfile)\n",
        "    writer.writerow(['Max x', 'Max y', 'Max z', 'Radius R', 'Sphere Equation'])  # Write header\n",
        "    writer.writerow([max_x, max_y, max_z, R, sphere_equation])  # Write data\n",
        "\n",
        "print(f\"Max coordinates and sphere equation saved to {csv_filename}\")\n"
      ],
      "metadata": {
        "colab": {
          "base_uri": "https://localhost:8080/"
        },
        "id": "LAdrxfgD3wdF",
        "outputId": "eb389446-d5f8-4bfe-abef-952901e6fcfc"
      },
      "execution_count": 8,
      "outputs": [
        {
          "output_type": "stream",
          "name": "stdout",
          "text": [
            "Number of coordinates: 41094\n",
            "Max Coordinates: x=65.1333, y=157.0, z=-120.157\n",
            "Sphere Equation: (x - 65.1333)^2 + (y - 157.0)^2 + (z - -120.157)^2 = 0.0001\n",
            "Max coordinates and sphere equation saved to sphere_combination.csv\n"
          ]
        }
      ]
    }
  ]
}